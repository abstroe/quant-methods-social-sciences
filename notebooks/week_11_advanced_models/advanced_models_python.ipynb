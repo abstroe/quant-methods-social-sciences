{
 "cells": [
  {
   "cell_type": "markdown",
   "id": "2d6e2d67",
   "metadata": {},
   "source": [
    "# Week11 – Python\n",
    "\n",
    "## Learning Objectives\n",
    "- [ ] Add objectives here\n",
    "\n",
    "## References\n",
    "- Add links to resources for this week\n"
   ]
  },
  {
   "cell_type": "code",
   "execution_count": null,
   "id": "afa40bd4",
   "metadata": {},
   "outputs": [],
   "source": [
    "# Your code starts here\n"
   ]
  }
 ],
 "metadata": {},
 "nbformat": 4,
 "nbformat_minor": 5
}
