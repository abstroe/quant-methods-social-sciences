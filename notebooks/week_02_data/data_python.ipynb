{
 "cells": [
  {
   "cell_type": "markdown",
   "id": "cb9db019",
   "metadata": {},
   "source": [
    "# Week02 – Python\n",
    "\n",
    "## Learning Objectives\n",
    "- [ ] Add objectives here\n",
    "\n",
    "## References\n",
    "- Add links to resources for this week\n"
   ]
  },
  {
   "cell_type": "code",
   "execution_count": null,
   "id": "52c40b1e",
   "metadata": {},
   "outputs": [],
   "source": [
    "# Your code starts here\n"
   ]
  }
 ],
 "metadata": {},
 "nbformat": 4,
 "nbformat_minor": 5
}
