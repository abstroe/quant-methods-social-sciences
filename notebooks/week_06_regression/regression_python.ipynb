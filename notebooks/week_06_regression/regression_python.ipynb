{
 "cells": [
  {
   "cell_type": "markdown",
   "id": "b48caf43",
   "metadata": {},
   "source": [
    "# Week06 – Python\n",
    "\n",
    "## Learning Objectives\n",
    "- [ ] Add objectives here\n",
    "\n",
    "## References\n",
    "- Add links to resources for this week\n"
   ]
  },
  {
   "cell_type": "code",
   "execution_count": null,
   "id": "daf6f7d7",
   "metadata": {},
   "outputs": [],
   "source": [
    "# Your code starts here\n"
   ]
  }
 ],
 "metadata": {},
 "nbformat": 4,
 "nbformat_minor": 5
}
