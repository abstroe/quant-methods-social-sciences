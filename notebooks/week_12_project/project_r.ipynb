{
 "cells": [
  {
   "cell_type": "markdown",
   "id": "dd476a08",
   "metadata": {},
   "source": [
    "# Week12 – R\n",
    "\n",
    "## Learning Objectives\n",
    "- [ ] Add objectives here\n",
    "\n",
    "## References\n",
    "- Add links to resources for this week\n"
   ]
  },
  {
   "cell_type": "code",
   "execution_count": null,
   "id": "fd2b0f87",
   "metadata": {},
   "outputs": [],
   "source": [
    "# R code starts here\n"
   ]
  }
 ],
 "metadata": {},
 "nbformat": 4,
 "nbformat_minor": 5
}
