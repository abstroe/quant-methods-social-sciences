{
 "cells": [
  {
   "cell_type": "markdown",
   "id": "c317f83e",
   "metadata": {},
   "source": [
    "# Week12 – Python\n",
    "\n",
    "## Learning Objectives\n",
    "- [ ] Add objectives here\n",
    "\n",
    "## References\n",
    "- Add links to resources for this week\n"
   ]
  },
  {
   "cell_type": "code",
   "execution_count": null,
   "id": "44b4a746",
   "metadata": {},
   "outputs": [],
   "source": [
    "# Your code starts here\n"
   ]
  }
 ],
 "metadata": {},
 "nbformat": 4,
 "nbformat_minor": 5
}
