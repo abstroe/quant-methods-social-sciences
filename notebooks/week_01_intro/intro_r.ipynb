{
 "cells": [
  {
   "cell_type": "markdown",
   "id": "ef87c1db",
   "metadata": {},
   "source": [
    "# Week01 – R\n",
    "\n",
    "## Learning Objectives\n",
    "- [ ] Add objectives here\n",
    "\n",
    "## References\n",
    "- Add links to resources for this week\n"
   ]
  },
  {
   "cell_type": "code",
   "execution_count": null,
   "id": "83df9548",
   "metadata": {},
   "outputs": [],
   "source": [
    "# R code starts here\n"
   ]
  }
 ],
 "metadata": {},
 "nbformat": 4,
 "nbformat_minor": 5
}
