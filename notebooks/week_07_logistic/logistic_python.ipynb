{
 "cells": [
  {
   "cell_type": "markdown",
   "id": "dd42fbbe",
   "metadata": {},
   "source": [
    "# Week07 – Python\n",
    "\n",
    "## Learning Objectives\n",
    "- [ ] Add objectives here\n",
    "\n",
    "## References\n",
    "- Add links to resources for this week\n"
   ]
  },
  {
   "cell_type": "code",
   "execution_count": null,
   "id": "08990436",
   "metadata": {},
   "outputs": [],
   "source": [
    "# Your code starts here\n"
   ]
  }
 ],
 "metadata": {},
 "nbformat": 4,
 "nbformat_minor": 5
}
