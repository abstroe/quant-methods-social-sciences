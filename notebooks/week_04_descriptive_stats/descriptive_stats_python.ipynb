{
 "cells": [
  {
   "cell_type": "markdown",
   "id": "0cbab561",
   "metadata": {},
   "source": [
    "# Week04 – Python\n",
    "\n",
    "## Learning Objectives\n",
    "- [ ] Add objectives here\n",
    "\n",
    "## References\n",
    "- Add links to resources for this week\n"
   ]
  },
  {
   "cell_type": "code",
   "execution_count": null,
   "id": "ef249ab4",
   "metadata": {},
   "outputs": [],
   "source": [
    "# Your code starts here\n"
   ]
  }
 ],
 "metadata": {},
 "nbformat": 4,
 "nbformat_minor": 5
}
