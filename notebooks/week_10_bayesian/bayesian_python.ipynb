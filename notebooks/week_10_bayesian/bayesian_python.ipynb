{
 "cells": [
  {
   "cell_type": "markdown",
   "id": "e5af3941",
   "metadata": {},
   "source": [
    "# Week10 – Python\n",
    "\n",
    "## Learning Objectives\n",
    "- [ ] Add objectives here\n",
    "\n",
    "## References\n",
    "- Add links to resources for this week\n"
   ]
  },
  {
   "cell_type": "code",
   "execution_count": null,
   "id": "fee77e88",
   "metadata": {},
   "outputs": [],
   "source": [
    "# Your code starts here\n"
   ]
  }
 ],
 "metadata": {},
 "nbformat": 4,
 "nbformat_minor": 5
}
