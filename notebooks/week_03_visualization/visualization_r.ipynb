{
 "cells": [
  {
   "cell_type": "markdown",
   "id": "a27c15b7",
   "metadata": {},
   "source": [
    "# Week03 – R\n",
    "\n",
    "## Learning Objectives\n",
    "- [ ] Add objectives here\n",
    "\n",
    "## References\n",
    "- Add links to resources for this week\n"
   ]
  },
  {
   "cell_type": "code",
   "execution_count": null,
   "id": "328fce2e",
   "metadata": {},
   "outputs": [],
   "source": [
    "# R code starts here\n"
   ]
  }
 ],
 "metadata": {},
 "nbformat": 4,
 "nbformat_minor": 5
}
